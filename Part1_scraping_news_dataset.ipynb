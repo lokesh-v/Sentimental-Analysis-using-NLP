{
 "cells": [
  {
   "cell_type": "code",
   "execution_count": 3,
   "metadata": {},
   "outputs": [],
   "source": [
    "import requests\n",
    "from bs4 import BeautifulSoup\n",
    "import numpy as np \n",
    "import pandas as pd\n",
    "import matplotlib.pyplot as plt\n",
    "import seaborn as sns \n",
    "import os\n",
    "\n"
   ]
  },
  {
   "cell_type": "code",
   "execution_count": 5,
   "metadata": {},
   "outputs": [],
   "source": [
    "seed_urls = ['https://inshorts.com/en/read/technology',\n",
    "             'https://inshorts.com/en/read/sports',\n",
    "             'https://inshorts.com/en/read/world']"
   ]
  },
  {
   "cell_type": "raw",
   "metadata": {},
   "source": [
    "1.for loop which is going through all the seed urls\n",
    "2.for each urls which is my category --> getting all the cards\n",
    "3.once i got all cards, in each card i am scraping --> headline, news_article and category"
   ]
  },
  {
   "cell_type": "markdown",
   "metadata": {},
   "source": [
    "# Scraping\n",
    "\n"
   ]
  },
  {
   "cell_type": "code",
   "execution_count": 6,
   "metadata": {},
   "outputs": [],
   "source": [
    "def build_dataset(seed_urls):\n",
    "    news_data = []\n",
    "    for url in seed_urls:\n",
    "        news_category = url.split('/')[-1]\n",
    "        data = requests.get(url)\n",
    "        soup = BeautifulSoup(data.content, 'html.parser')\n",
    "        \n",
    "        all_cards = soup.find_all('div', class_=\"news-card\")\n",
    "        \n",
    "        news_articles = [{\n",
    "            'news_headline': card.find('span', attrs={\"itemprop\": \"headline\"}).string,\n",
    "            'news_article': card.find('div', attrs={\"itemprop\": \"articleBody\"}).string,\n",
    "            'news_category': news_category\n",
    "        } for card in all_cards]\n",
    "        news_data.extend(news_articles)\n",
    "    # end of for loop\n",
    "    df =  pd.DataFrame(news_data)\n",
    "    df = df[['news_headline', 'news_article', 'news_category']]\n",
    "    return df"
   ]
  },
  {
   "cell_type": "code",
   "execution_count": 7,
   "metadata": {},
   "outputs": [
    {
     "data": {
      "text/html": [
       "<div>\n",
       "<style scoped>\n",
       "    .dataframe tbody tr th:only-of-type {\n",
       "        vertical-align: middle;\n",
       "    }\n",
       "\n",
       "    .dataframe tbody tr th {\n",
       "        vertical-align: top;\n",
       "    }\n",
       "\n",
       "    .dataframe thead th {\n",
       "        text-align: right;\n",
       "    }\n",
       "</style>\n",
       "<table border=\"1\" class=\"dataframe\">\n",
       "  <thead>\n",
       "    <tr style=\"text-align: right;\">\n",
       "      <th></th>\n",
       "      <th>news_headline</th>\n",
       "      <th>news_article</th>\n",
       "      <th>news_category</th>\n",
       "    </tr>\n",
       "  </thead>\n",
       "  <tbody>\n",
       "    <tr>\n",
       "      <th>0</th>\n",
       "      <td>YouTuber says he faked broken ankle for free b...</td>\n",
       "      <td>YouTuber and Instagram influencer Jamie Zhu wa...</td>\n",
       "      <td>technology</td>\n",
       "    </tr>\n",
       "    <tr>\n",
       "      <th>1</th>\n",
       "      <td>Facebook translates Xi Jinping's name to 'Mr S...</td>\n",
       "      <td>Facebook has blamed a technical error for Chin...</td>\n",
       "      <td>technology</td>\n",
       "    </tr>\n",
       "    <tr>\n",
       "      <th>2</th>\n",
       "      <td>Viral Facebook video helps Bangladeshi man reu...</td>\n",
       "      <td>A viral Facebook video helped a 78-year-old Ba...</td>\n",
       "      <td>technology</td>\n",
       "    </tr>\n",
       "    <tr>\n",
       "      <th>3</th>\n",
       "      <td>EVs will be cheaper than regular cars a miscon...</td>\n",
       "      <td>Maruti Suzuki India's Executive Director Shash...</td>\n",
       "      <td>technology</td>\n",
       "    </tr>\n",
       "    <tr>\n",
       "      <th>4</th>\n",
       "      <td>WhatsApp becomes 2nd non-Google app to reach 5...</td>\n",
       "      <td>With over 500 crore downloads on Google Play S...</td>\n",
       "      <td>technology</td>\n",
       "    </tr>\n",
       "    <tr>\n",
       "      <th>5</th>\n",
       "      <td>Pune man suffers intracerebral haemorrhage whi...</td>\n",
       "      <td>A 25-year-old man who suffered an intracerebra...</td>\n",
       "      <td>technology</td>\n",
       "    </tr>\n",
       "    <tr>\n",
       "      <th>6</th>\n",
       "      <td>WhatsApp down in India, users unable to send p...</td>\n",
       "      <td>Facebook-owned messaging platform WhatsApp suf...</td>\n",
       "      <td>technology</td>\n",
       "    </tr>\n",
       "    <tr>\n",
       "      <th>7</th>\n",
       "      <td>WhatsApp services resume after three-hour outa...</td>\n",
       "      <td>WhatsApp on Sunday evening faced an outage in ...</td>\n",
       "      <td>technology</td>\n",
       "    </tr>\n",
       "    <tr>\n",
       "      <th>8</th>\n",
       "      <td>TikTok can grow bigger than Instagram: Snap CE...</td>\n",
       "      <td>Evan Spiegel, the CEO of Snapchat's parent com...</td>\n",
       "      <td>technology</td>\n",
       "    </tr>\n",
       "    <tr>\n",
       "      <th>9</th>\n",
       "      <td>'Unending love for Amazon': RSS economic wing ...</td>\n",
       "      <td>RSS economic wing Swadeshi Jagran Manch's co-c...</td>\n",
       "      <td>technology</td>\n",
       "    </tr>\n",
       "  </tbody>\n",
       "</table>\n",
       "</div>"
      ],
      "text/plain": [
       "                                       news_headline  \\\n",
       "0  YouTuber says he faked broken ankle for free b...   \n",
       "1  Facebook translates Xi Jinping's name to 'Mr S...   \n",
       "2  Viral Facebook video helps Bangladeshi man reu...   \n",
       "3  EVs will be cheaper than regular cars a miscon...   \n",
       "4  WhatsApp becomes 2nd non-Google app to reach 5...   \n",
       "5  Pune man suffers intracerebral haemorrhage whi...   \n",
       "6  WhatsApp down in India, users unable to send p...   \n",
       "7  WhatsApp services resume after three-hour outa...   \n",
       "8  TikTok can grow bigger than Instagram: Snap CE...   \n",
       "9  'Unending love for Amazon': RSS economic wing ...   \n",
       "\n",
       "                                        news_article news_category  \n",
       "0  YouTuber and Instagram influencer Jamie Zhu wa...    technology  \n",
       "1  Facebook has blamed a technical error for Chin...    technology  \n",
       "2  A viral Facebook video helped a 78-year-old Ba...    technology  \n",
       "3  Maruti Suzuki India's Executive Director Shash...    technology  \n",
       "4  With over 500 crore downloads on Google Play S...    technology  \n",
       "5  A 25-year-old man who suffered an intracerebra...    technology  \n",
       "6  Facebook-owned messaging platform WhatsApp suf...    technology  \n",
       "7  WhatsApp on Sunday evening faced an outage in ...    technology  \n",
       "8  Evan Spiegel, the CEO of Snapchat's parent com...    technology  \n",
       "9  RSS economic wing Swadeshi Jagran Manch's co-c...    technology  "
      ]
     },
     "execution_count": 7,
     "metadata": {},
     "output_type": "execute_result"
    }
   ],
   "source": [
    "news_df = build_dataset(seed_urls)\n",
    "news_df.head(10)"
   ]
  },
  {
   "cell_type": "code",
   "execution_count": 8,
   "metadata": {},
   "outputs": [
    {
     "data": {
      "text/plain": [
       "technology    25\n",
       "world         25\n",
       "sports        25\n",
       "Name: news_category, dtype: int64"
      ]
     },
     "execution_count": 8,
     "metadata": {},
     "output_type": "execute_result"
    }
   ],
   "source": [
    "news_df.news_category.value_counts()"
   ]
  },
  {
   "cell_type": "code",
   "execution_count": 9,
   "metadata": {},
   "outputs": [
    {
     "data": {
      "text/html": [
       "<div>\n",
       "<style scoped>\n",
       "    .dataframe tbody tr th:only-of-type {\n",
       "        vertical-align: middle;\n",
       "    }\n",
       "\n",
       "    .dataframe tbody tr th {\n",
       "        vertical-align: top;\n",
       "    }\n",
       "\n",
       "    .dataframe thead th {\n",
       "        text-align: right;\n",
       "    }\n",
       "</style>\n",
       "<table border=\"1\" class=\"dataframe\">\n",
       "  <thead>\n",
       "    <tr style=\"text-align: right;\">\n",
       "      <th></th>\n",
       "      <th>news_headline</th>\n",
       "      <th>news_article</th>\n",
       "      <th>news_category</th>\n",
       "    </tr>\n",
       "  </thead>\n",
       "  <tbody>\n",
       "    <tr>\n",
       "      <th>0</th>\n",
       "      <td>YouTuber says he faked broken ankle for free b...</td>\n",
       "      <td>YouTuber and Instagram influencer Jamie Zhu wa...</td>\n",
       "      <td>technology</td>\n",
       "    </tr>\n",
       "    <tr>\n",
       "      <th>1</th>\n",
       "      <td>Facebook translates Xi Jinping's name to 'Mr S...</td>\n",
       "      <td>Facebook has blamed a technical error for Chin...</td>\n",
       "      <td>technology</td>\n",
       "    </tr>\n",
       "    <tr>\n",
       "      <th>2</th>\n",
       "      <td>Viral Facebook video helps Bangladeshi man reu...</td>\n",
       "      <td>A viral Facebook video helped a 78-year-old Ba...</td>\n",
       "      <td>technology</td>\n",
       "    </tr>\n",
       "    <tr>\n",
       "      <th>3</th>\n",
       "      <td>EVs will be cheaper than regular cars a miscon...</td>\n",
       "      <td>Maruti Suzuki India's Executive Director Shash...</td>\n",
       "      <td>technology</td>\n",
       "    </tr>\n",
       "    <tr>\n",
       "      <th>4</th>\n",
       "      <td>WhatsApp becomes 2nd non-Google app to reach 5...</td>\n",
       "      <td>With over 500 crore downloads on Google Play S...</td>\n",
       "      <td>technology</td>\n",
       "    </tr>\n",
       "  </tbody>\n",
       "</table>\n",
       "</div>"
      ],
      "text/plain": [
       "                                       news_headline  \\\n",
       "0  YouTuber says he faked broken ankle for free b...   \n",
       "1  Facebook translates Xi Jinping's name to 'Mr S...   \n",
       "2  Viral Facebook video helps Bangladeshi man reu...   \n",
       "3  EVs will be cheaper than regular cars a miscon...   \n",
       "4  WhatsApp becomes 2nd non-Google app to reach 5...   \n",
       "\n",
       "                                        news_article news_category  \n",
       "0  YouTuber and Instagram influencer Jamie Zhu wa...    technology  \n",
       "1  Facebook has blamed a technical error for Chin...    technology  \n",
       "2  A viral Facebook video helped a 78-year-old Ba...    technology  \n",
       "3  Maruti Suzuki India's Executive Director Shash...    technology  \n",
       "4  With over 500 crore downloads on Google Play S...    technology  "
      ]
     },
     "execution_count": 9,
     "metadata": {},
     "output_type": "execute_result"
    }
   ],
   "source": [
    "news_df.head()\n"
   ]
  },
  {
   "cell_type": "code",
   "execution_count": null,
   "metadata": {},
   "outputs": [],
   "source": []
  }
 ],
 "metadata": {
  "kernelspec": {
   "display_name": "Python 3",
   "language": "python",
   "name": "python3"
  },
  "language_info": {
   "codemirror_mode": {
    "name": "ipython",
    "version": 3
   },
   "file_extension": ".py",
   "mimetype": "text/x-python",
   "name": "python",
   "nbconvert_exporter": "python",
   "pygments_lexer": "ipython3",
   "version": "3.7.3"
  }
 },
 "nbformat": 4,
 "nbformat_minor": 2
}
